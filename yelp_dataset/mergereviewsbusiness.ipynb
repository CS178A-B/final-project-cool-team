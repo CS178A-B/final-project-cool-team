{
 "cells": [
  {
   "cell_type": "code",
   "execution_count": 47,
   "metadata": {},
   "outputs": [
    {
     "name": "stdout",
     "output_type": "stream",
     "text": [
      "209393\n"
     ]
    }
   ],
   "source": [
    "# source code taken from https://towardsdatascience.com/converting-yelp-dataset-to-csv-using-pandas-2a4c8f03bd88 and modified\n",
    "import pandas as pd\n",
    "\n",
    "busjson_path = 'yelp_academic_dataset_business.json'\n",
    "df_business = pd.read_json(busjson_path, lines=True)\n",
    "print(len(df_business))"
   ]
  },
  {
   "cell_type": "code",
   "execution_count": 48,
   "metadata": {},
   "outputs": [
    {
     "name": "stdout",
     "output_type": "stream",
     "text": [
      "                   business_id                         name  \\\n",
      "0       f9NumwFMBDn751xgFiRbNA     The Range At Lake Norman   \n",
      "1       Yzvjg0SayhoZgCljUJRF9Q            Carlos Santo, NMD   \n",
      "2       XNoUzKckATkOD1hP6vghZg                      Felinus   \n",
      "4       51M2Kk903DFYI6gnB5I6SQ      USE MY GUY SERVICES LLC   \n",
      "5       cKyLV5oWZJ2NudWgqs8VZw  Oasis Auto Center - Gilbert   \n",
      "...                        ...                          ...   \n",
      "209386  JjcJVqhZXhP4tvOhg3fnag            Water Heater Pros   \n",
      "209387  KdGtDThLduB8Vf-z-qKEFA                         Aldo   \n",
      "209390  SYa2j1boLF8DcGVOYfHPcA                    Five Guys   \n",
      "209391  RSSIsgO00OuWQTRoITacpA    Indian Trail Dog Training   \n",
      "209392  tOcYmewXFhQeZh3V42ymwg                    Kudlow Ye   \n",
      "\n",
      "                                address          city state postal_code  \\\n",
      "0                       10913 Bailey Rd     Cornelius    NC       28031   \n",
      "1             8880 E Via Linda, Ste 107    Scottsdale    AZ       85258   \n",
      "2                 3554 Rue Notre-Dame O      Montreal    QC     H4C 1P4   \n",
      "4                    4827 E Downing Cir          Mesa    AZ       85205   \n",
      "5             1720 W Elliot Rd, Ste 105       Gilbert    AZ       85233   \n",
      "...                                 ...           ...   ...         ...   \n",
      "209386                                      Las Vegas    NV       89120   \n",
      "209387              6455 Macleod Trl SW       Calgary    AB         T2H   \n",
      "209390          7014-590 E Camelback Rd    Scottsdale    AZ       85251   \n",
      "209391                                   Indian Trail    NC       28079   \n",
      "209392  21 St Clair Avenue E, Suite 401       Toronto    ON     M4T 1L9   \n",
      "\n",
      "         latitude   longitude  stars  review_count  is_open  \\\n",
      "0       35.462724  -80.852612    3.5            36        1   \n",
      "1       33.569404 -111.890264    5.0             4        1   \n",
      "2       45.479984  -73.580070    5.0             5        1   \n",
      "4       33.428065 -111.726648    4.5            26        1   \n",
      "5       33.350399 -111.827142    4.5            38        1   \n",
      "...           ...         ...    ...           ...      ...   \n",
      "209386  36.076977 -115.244794    5.0           217        1   \n",
      "209387  50.997571 -114.073369    3.5             3        1   \n",
      "209390  33.504062 -111.929431    3.5            97        1   \n",
      "209391  35.101965  -80.599385    5.0             3        1   \n",
      "209392  43.688214  -79.392756    5.0             3        1   \n",
      "\n",
      "                                               attributes  \\\n",
      "0       {'BusinessAcceptsCreditCards': 'True', 'BikePa...   \n",
      "1       {'GoodForKids': 'True', 'ByAppointmentOnly': '...   \n",
      "2                                                    None   \n",
      "4       {'BusinessAcceptsCreditCards': 'True', 'ByAppo...   \n",
      "5                  {'BusinessAcceptsCreditCards': 'True'}   \n",
      "...                                                   ...   \n",
      "209386  {'BusinessAcceptsCreditCards': 'True', 'ByAppo...   \n",
      "209387                                               None   \n",
      "209390  {'BusinessAcceptsCreditCards': 'True', 'Restau...   \n",
      "209391                                               None   \n",
      "209392                                               None   \n",
      "\n",
      "                                               categories  \\\n",
      "0       Active Life, Gun/Rifle Ranges, Guns & Ammo, Sh...   \n",
      "1       Health & Medical, Fitness & Instruction, Yoga,...   \n",
      "2                        Pets, Pet Services, Pet Groomers   \n",
      "4       Home Services, Plumbing, Electricians, Handyma...   \n",
      "5       Auto Repair, Automotive, Oil Change Stations, ...   \n",
      "...                                                   ...   \n",
      "209386  Contractors, Local Services, Appliances & Repa...   \n",
      "209387        Shopping, Fashion, Accessories, Shoe Stores   \n",
      "209390  American (New), Food, Burgers, Restaurants, Fa...   \n",
      "209391                   Pet Services, Pet Training, Pets   \n",
      "209392  Tax Services, Professional Services, Accountan...   \n",
      "\n",
      "                                                    hours  \n",
      "0       {'Monday': '10:0-18:0', 'Tuesday': '11:0-20:0'...  \n",
      "1                                                    None  \n",
      "2                                                    None  \n",
      "4       {'Monday': '0:0-0:0', 'Tuesday': '9:0-16:0', '...  \n",
      "5       {'Monday': '7:0-18:0', 'Tuesday': '7:0-18:0', ...  \n",
      "...                                                   ...  \n",
      "209386  {'Monday': '0:0-0:0', 'Tuesday': '8:0-17:0', '...  \n",
      "209387                                               None  \n",
      "209390  {'Monday': '11:0-22:0', 'Tuesday': '11:0-22:0'...  \n",
      "209391  {'Monday': '0:0-0:0', 'Tuesday': '7:0-19:0', '...  \n",
      "209392  {'Monday': '9:0-18:0', 'Tuesday': '9:0-18:0', ...  \n",
      "\n",
      "[168903 rows x 14 columns]\n"
     ]
    }
   ],
   "source": [
    "df_business = df_business[df_business['is_open']==1]\n",
    "print(df_business)"
   ]
  },
  {
   "cell_type": "code",
   "execution_count": 49,
   "metadata": {},
   "outputs": [
    {
     "name": "stdout",
     "output_type": "stream",
     "text": [
      "168903\n"
     ]
    }
   ],
   "source": [
    "drop_columns = ['hours','is_open','review_count']\n",
    "df_business = df_business.drop(drop_columns, axis=1)\n",
    "print(len(df_business))"
   ]
  },
  {
   "cell_type": "code",
   "execution_count": 50,
   "metadata": {},
   "outputs": [
    {
     "name": "stdout",
     "output_type": "stream",
     "text": [
      "43965\n"
     ]
    }
   ],
   "source": [
    "business_restaurants = df_business[df_business['categories'].str.contains(\n",
    "              'Restaurants',\n",
    "              case=False, na=False)]\n",
    "print(len(business_restaurants))"
   ]
  },
  {
   "cell_type": "code",
   "execution_count": 52,
   "metadata": {},
   "outputs": [],
   "source": [
    "review_json_path = 'yelp_academic_dataset_review.json'"
   ]
  },
  {
   "cell_type": "code",
   "execution_count": 53,
   "metadata": {},
   "outputs": [
    {
     "name": "stdout",
     "output_type": "stream",
     "text": [
      "<pandas.io.json._json.JsonReader object at 0x7fc1f79e8f50>\n"
     ]
    }
   ],
   "source": [
    "size = 1000000\n",
    "review = pd.read_json(review_json_path, lines=True,\n",
    "                      dtype={'review_id':str,'user_id':str,\n",
    "                             'business_id':str,'stars':int,\n",
    "                             'date':str,'text':str,'useful':int,\n",
    "                             'funny':int,'cool':int},\n",
    "                      chunksize=size)\n",
    "print (review)"
   ]
  },
  {
   "cell_type": "code",
   "execution_count": null,
   "metadata": {},
   "outputs": [
    {
     "name": "stdout",
     "output_type": "stream",
     "text": [
      "522503 out of 1,000,000 related reviews\n",
      "529536 out of 1,000,000 related reviews\n",
      "531241 out of 1,000,000 related reviews\n",
      "515309 out of 1,000,000 related reviews\n",
      "534690 out of 1,000,000 related reviews\n",
      "525943 out of 1,000,000 related reviews\n",
      "520859 out of 1,000,000 related reviews\n",
      "10597 out of 1,000,000 related reviews\n"
     ]
    }
   ],
   "source": [
    "# Need to join tables"
   ]
  },
  {
   "cell_type": "code",
   "execution_count": null,
   "metadata": {},
   "outputs": [],
   "source": []
  },
  {
   "cell_type": "code",
   "execution_count": null,
   "metadata": {},
   "outputs": [],
   "source": []
  }
 ],
 "metadata": {
  "kernelspec": {
   "display_name": "Python 3",
   "language": "python",
   "name": "python3"
  },
  "language_info": {
   "codemirror_mode": {
    "name": "ipython",
    "version": 3
   },
   "file_extension": ".py",
   "mimetype": "text/x-python",
   "name": "python",
   "nbconvert_exporter": "python",
   "pygments_lexer": "ipython3",
   "version": "3.7.4"
  }
 },
 "nbformat": 4,
 "nbformat_minor": 2
}
